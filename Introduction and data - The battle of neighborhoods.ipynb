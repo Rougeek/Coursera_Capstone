{
 "cells": [
  {
   "cell_type": "markdown",
   "metadata": {},
   "source": [
    "<h1><center>What kind of venue to open in Paris and where to open it ?</center></h1>"
   ]
  },
  {
   "cell_type": "markdown",
   "metadata": {},
   "source": [
    "<center>Rougui Diallo, June 19th, 2021</center>"
   ]
  },
  {
   "cell_type": "markdown",
   "metadata": {},
   "source": [
    "# Introduction"
   ]
  },
  {
   "cell_type": "markdown",
   "metadata": {},
   "source": [
    "### General overview"
   ]
  },
  {
   "cell_type": "markdown",
   "metadata": {},
   "source": [
    "Paris is the city of lights and love, and attracts more than 50 millions tourists a year. <br /> \n",
    "With its museums, monuments and shops, Paris is the most visited capital in the world. For a weekend or for a week, for lovers or for families and friends visiting, there are a lot of venues that can be of interest for tourists. <br /> \n",
    "\n"
   ]
  },
  {
   "cell_type": "markdown",
   "metadata": {},
   "source": [
    "### Business Problem"
   ]
  },
  {
   "cell_type": "markdown",
   "metadata": {},
   "source": [
    "With a city with that much tourists, there sure are a lot of business that can be opened to be useful to tourists. This report is to be used by business person looking to open a business in Paris, to determine what kind of business to open, and where to open it to attract tourists, with few competition. <br /> \n",
    "\n",
    "We will use data to first identify the most popular business to open, then we'll focus on the neighborhoods where it would be suitable to open the business, in lights of the two constraints above : attracting tourists, and few competition."
   ]
  },
  {
   "cell_type": "markdown",
   "metadata": {},
   "source": [
    "# Data to be used"
   ]
  },
  {
   "cell_type": "markdown",
   "metadata": {},
   "source": [
    "To handle our business problem, we used the following data : <br />\n",
    "* Neighborhood data for Paris\n",
    "* Coordinates of the neighborhoods of Paris\n",
    "* The data relative to the venues in Paris"
   ]
  },
  {
   "cell_type": "markdown",
   "metadata": {},
   "source": [
    "### Neighborhood data"
   ]
  },
  {
   "cell_type": "markdown",
   "metadata": {},
   "source": [
    "To retrieve the neighborhood data for Paris, we used the wikipedia page listing the neighborhood in Paris, and scraped its content using the pandas method pd.read_html, that can be easily used since Wikipedia use html tables. <br />\n",
    "The extracted data resulted in a dataframe listing for each District ('Arrondissement') in Paris the neighborhood in said districts. <br />\n",
    "There are 20 districts in Paris, and 4 neighborhoods per district, which gives a total of 80 neighborhoods in Paris."
   ]
  },
  {
   "cell_type": "markdown",
   "metadata": {},
   "source": [
    "### Coordinates of neighborhoods"
   ]
  },
  {
   "cell_type": "markdown",
   "metadata": {},
   "source": [
    "To retrieve the coordinates for each neighborhood, which list we previously scraped, we used the geocoder library. <br />\n",
    "The coordinates are useful for later visualization on a map, using the Folium library."
   ]
  },
  {
   "cell_type": "markdown",
   "metadata": {},
   "source": [
    "### Venues data"
   ]
  },
  {
   "cell_type": "markdown",
   "metadata": {},
   "source": [
    "The venues data are extracted using Foursquare API, to get the venues for each neighborhood, in a radius of 500m around the center of the neighborhood. <br />\n",
    "For each venue, we have :\n",
    "* The name of the venue\n",
    "* The coordinates of the venue\n",
    "* The venue category <br />\n",
    "\n",
    "The venue category data will be particularly useful to determine which kind of venue are the most frequent."
   ]
  }
 ],
 "metadata": {
  "kernelspec": {
   "display_name": "Python 3",
   "language": "python",
   "name": "python3"
  },
  "language_info": {
   "codemirror_mode": {
    "name": "ipython",
    "version": 3
   },
   "file_extension": ".py",
   "mimetype": "text/x-python",
   "name": "python",
   "nbconvert_exporter": "python",
   "pygments_lexer": "ipython3",
   "version": "3.7.6"
  }
 },
 "nbformat": 4,
 "nbformat_minor": 4
}
